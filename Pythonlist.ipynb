{
  "nbformat": 4,
  "nbformat_minor": 0,
  "metadata": {
    "colab": {
      "provenance": [],
      "authorship_tag": "ABX9TyO/l9LCiZR5D6qZ/fxmg0Fy",
      "include_colab_link": true
    },
    "kernelspec": {
      "name": "python3",
      "display_name": "Python 3"
    },
    "language_info": {
      "name": "python"
    }
  },
  "cells": [
    {
      "cell_type": "markdown",
      "metadata": {
        "id": "view-in-github",
        "colab_type": "text"
      },
      "source": [
        "<a href=\"https://colab.research.google.com/github/Mbwas-Ayuba/AI-/blob/main/Pythonlist.ipynb\" target=\"_parent\"><img src=\"https://colab.research.google.com/assets/colab-badge.svg\" alt=\"Open In Colab\"/></a>"
      ]
    },
    {
      "cell_type": "code",
      "execution_count": 1,
      "metadata": {
        "colab": {
          "base_uri": "https://localhost:8080/"
        },
        "id": "RqnzJHLTDJxI",
        "outputId": "0f7f8c30-a8fc-4f3f-ea88-83fd10849ffa"
      },
      "outputs": [
        {
          "output_type": "stream",
          "name": "stdout",
          "text": [
            "['banana', 'kiwi', 'mango', 'orange', 'pineapple']\n"
          ]
        }
      ],
      "source": [
        "#Working with list\n",
        "#To sort list\n",
        "#List objects have a sort() method that will sort the list alphanumerically, ascending, by default:\n",
        "\n",
        "#for example\n",
        "\n",
        "thislist = [\"orange\", \"mango\", \"kiwi\", \"pineapple\", \"banana\"]\n",
        "thislist.sort()\n",
        "print(thislist)\n",
        "\n",
        "#It sorts the list in alphabetical order"
      ]
    },
    {
      "cell_type": "code",
      "source": [
        "#We can even sort the list in numerical order\n",
        "\n",
        "mynumbers = [12,32,465,34,234,354,33,5,767,34]\n",
        "mynumbers.sort()\n",
        "print(mynumbers)\n",
        "\n",
        "#sorts the lsit  of numbers in ascending order"
      ],
      "metadata": {
        "colab": {
          "base_uri": "https://localhost:8080/"
        },
        "id": "75dmVAd6Dvia",
        "outputId": "7680c3c6-8704-49e7-fe32-83d7429520eb"
      },
      "execution_count": 2,
      "outputs": [
        {
          "output_type": "stream",
          "name": "stdout",
          "text": [
            "[5, 12, 32, 33, 34, 34, 234, 354, 465, 767]\n"
          ]
        }
      ]
    },
    {
      "cell_type": "code",
      "source": [
        "#To sort the lists in decending order\n",
        "\n",
        "thislist.sort(reverse = True)\n",
        "print(thislist)"
      ],
      "metadata": {
        "colab": {
          "base_uri": "https://localhost:8080/"
        },
        "id": "WpuPn6sgESDA",
        "outputId": "c58aa914-61f3-452f-d318-c3cbc94ac3b2"
      },
      "execution_count": 3,
      "outputs": [
        {
          "output_type": "stream",
          "name": "stdout",
          "text": [
            "['pineapple', 'orange', 'mango', 'kiwi', 'banana']\n"
          ]
        }
      ]
    },
    {
      "cell_type": "code",
      "source": [
        "mynumbers.sort(reverse = True)\n",
        "print(mynumbers)"
      ],
      "metadata": {
        "colab": {
          "base_uri": "https://localhost:8080/"
        },
        "id": "YqAlGJGPEwcE",
        "outputId": "4db52455-f5bc-4b74-fc48-2385c7272069"
      },
      "execution_count": 4,
      "outputs": [
        {
          "output_type": "stream",
          "name": "stdout",
          "text": [
            "[767, 465, 354, 234, 34, 34, 33, 32, 12, 5]\n"
          ]
        }
      ]
    },
    {
      "cell_type": "code",
      "source": [
        "#We can use a function to customize the sorting\n",
        "#for example\n",
        "\n",
        "def myfunc(n):\n",
        "  return abs(n - 50)\n",
        "thislist = [12,122,34,2322,45,50,555,66]\n",
        "thislist.sort(key = myfunc)\n",
        "print(thislist)\n",
        "\n",
        "#the above example is to see the numbers close the number 50"
      ],
      "metadata": {
        "colab": {
          "base_uri": "https://localhost:8080/"
        },
        "id": "g-n6sQWzFCzu",
        "outputId": "7a1cb62b-ff66-4378-a7a9-4ce6652d52b8"
      },
      "execution_count": 6,
      "outputs": [
        {
          "output_type": "stream",
          "name": "stdout",
          "text": [
            "[50, 45, 34, 66, 12, 122, 555, 2322]\n"
          ]
        }
      ]
    },
    {
      "cell_type": "code",
      "source": [
        "# By default the sort() method is case sensitive, resulting in all capital letters being sorted before lower case letters:\n",
        "#for example\n",
        "\n",
        "list = ['devil', 'Satan', 'sin', 'Crime', 'murder']\n",
        "list.sort()\n",
        "list"
      ],
      "metadata": {
        "colab": {
          "base_uri": "https://localhost:8080/"
        },
        "id": "4pXWPnJ_LHRP",
        "outputId": "e5e29bab-e891-455a-f9e5-6cfedf007df6"
      },
      "execution_count": 7,
      "outputs": [
        {
          "output_type": "execute_result",
          "data": {
            "text/plain": [
              "['Crime', 'Satan', 'devil', 'murder', 'sin']"
            ]
          },
          "metadata": {},
          "execution_count": 7
        }
      ]
    },
    {
      "cell_type": "code",
      "source": [
        "#So if you want a case-insensitive sort function, use str.lower as a key function:\n",
        "list.sort(key = str.lower)\n",
        "list"
      ],
      "metadata": {
        "colab": {
          "base_uri": "https://localhost:8080/"
        },
        "id": "LcTTYR_nL4Jz",
        "outputId": "0ff5752f-2791-409e-c149-44fb9e16bc12"
      },
      "execution_count": 9,
      "outputs": [
        {
          "output_type": "execute_result",
          "data": {
            "text/plain": [
              "['Crime', 'devil', 'murder', 'Satan', 'sin']"
            ]
          },
          "metadata": {},
          "execution_count": 9
        }
      ]
    },
    {
      "cell_type": "markdown",
      "source": [
        "**Copy List in Python**\n",
        "\n",
        "You can use the built-in List method copy() to copy a list"
      ],
      "metadata": {
        "id": "3J29URwwMkdO"
      }
    },
    {
      "cell_type": "code",
      "source": [
        "thislist"
      ],
      "metadata": {
        "colab": {
          "base_uri": "https://localhost:8080/"
        },
        "id": "pnLON0trMF5B",
        "outputId": "5093e6b3-44e0-4dbe-ebfe-5bcf93cd8847"
      },
      "execution_count": 10,
      "outputs": [
        {
          "output_type": "execute_result",
          "data": {
            "text/plain": [
              "[50, 45, 34, 66, 12, 122, 555, 2322]"
            ]
          },
          "metadata": {},
          "execution_count": 10
        }
      ]
    },
    {
      "cell_type": "code",
      "source": [
        "mylist = thislist.copy()"
      ],
      "metadata": {
        "id": "RVmIAjSMNIT2"
      },
      "execution_count": 11,
      "outputs": []
    },
    {
      "cell_type": "code",
      "source": [
        "mylist"
      ],
      "metadata": {
        "colab": {
          "base_uri": "https://localhost:8080/"
        },
        "id": "9ocH4Gp7NMUB",
        "outputId": "dfad5c9b-9d9e-4bfb-968a-42175e8f2501"
      },
      "execution_count": 12,
      "outputs": [
        {
          "output_type": "execute_result",
          "data": {
            "text/plain": [
              "[50, 45, 34, 66, 12, 122, 555, 2322]"
            ]
          },
          "metadata": {},
          "execution_count": 12
        }
      ]
    },
    {
      "cell_type": "code",
      "source": [],
      "metadata": {
        "id": "70Ub9AtJNbFk"
      },
      "execution_count": null,
      "outputs": []
    },
    {
      "cell_type": "markdown",
      "source": [
        "# Join Lists\n",
        "\n",
        "There are several ways to join, or concatenate, two or more lists in Python.\n",
        "\n",
        "One of the easiest ways are by using the + operator."
      ],
      "metadata": {
        "id": "tQfPj5mpOacF"
      }
    },
    {
      "cell_type": "code",
      "source": [
        "# for example\n",
        "\n",
        "list1 = [\"a\", \"b\", \"c\"]\n",
        "list2 = [1, 2, 3]\n",
        "\n",
        "list3 = list1 + list2\n",
        "print(list3)"
      ],
      "metadata": {
        "colab": {
          "base_uri": "https://localhost:8080/"
        },
        "id": "GlfDYPozOvHw",
        "outputId": "86fa71ec-f6d5-4d36-b23e-aec5759ff431"
      },
      "execution_count": 15,
      "outputs": [
        {
          "output_type": "stream",
          "name": "stdout",
          "text": [
            "['a', 'b', 'c', 1, 2, 3]\n"
          ]
        }
      ]
    },
    {
      "cell_type": "code",
      "source": [
        "# Another way to join two lists is by appending all the items from list2 into list1, one by one:\n",
        "\n",
        "for x in list2:\n",
        "  list1.append(x)\n",
        "list1"
      ],
      "metadata": {
        "colab": {
          "base_uri": "https://localhost:8080/"
        },
        "id": "70XPUhSEO1gU",
        "outputId": "1547d12a-531b-4396-e308-157274aba76e"
      },
      "execution_count": 17,
      "outputs": [
        {
          "output_type": "execute_result",
          "data": {
            "text/plain": [
              "['a', 'b', 'c', 1, 2, 3]"
            ]
          },
          "metadata": {},
          "execution_count": 17
        }
      ]
    },
    {
      "cell_type": "code",
      "source": [
        "#Or you can use the extend() method, where the purpose is to add elements from one list to another list:\n",
        "\n",
        "list1.extend(list2)\n",
        "list1\n"
      ],
      "metadata": {
        "colab": {
          "base_uri": "https://localhost:8080/"
        },
        "id": "MspAeNyCdB86",
        "outputId": "15e96d55-5969-4944-de9e-51edd926674f"
      },
      "execution_count": 18,
      "outputs": [
        {
          "output_type": "execute_result",
          "data": {
            "text/plain": [
              "['a', 'b', 'c', 1, 2, 3, 1, 2, 3]"
            ]
          },
          "metadata": {},
          "execution_count": 18
        }
      ]
    },
    {
      "cell_type": "code",
      "source": [],
      "metadata": {
        "id": "k-KgGLisgHGQ"
      },
      "execution_count": null,
      "outputs": []
    }
  ]
}