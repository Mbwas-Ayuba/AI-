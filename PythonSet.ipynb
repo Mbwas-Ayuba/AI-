{
  "nbformat": 4,
  "nbformat_minor": 0,
  "metadata": {
    "colab": {
      "provenance": [],
      "authorship_tag": "ABX9TyNezkpD9i5PHtRVXIfQ+Oio",
      "include_colab_link": true
    },
    "kernelspec": {
      "name": "python3",
      "display_name": "Python 3"
    },
    "language_info": {
      "name": "python"
    }
  },
  "cells": [
    {
      "cell_type": "markdown",
      "metadata": {
        "id": "view-in-github",
        "colab_type": "text"
      },
      "source": [
        "<a href=\"https://colab.research.google.com/github/Mbwas-Ayuba/AI-/blob/main/PythonSet.ipynb\" target=\"_parent\"><img src=\"https://colab.research.google.com/assets/colab-badge.svg\" alt=\"Open In Colab\"/></a>"
      ]
    },
    {
      "cell_type": "markdown",
      "source": [
        "## Python Set\n",
        "\n",
        "Sets are used to store multiple items in a single variable.\n",
        "\n",
        "Set is one of 4 built-in data types in Python used to store collections of data, the other 3 are List, Tuple, and Dictionary, all with different qualities and usage.\n",
        "\n",
        "A set is a collection which is, *unordered, unchangeable*, and unindexed*\n",
        "\n",
        "Unordered means that the items in a set do not have a defined order.\n",
        "\n",
        "Set items can appear in a different order every time you use them, and cannot be referred to by index or key.\n",
        "\n",
        "Set items are unchangeable, meaning that we cannot change the items after the set has been created.\n",
        "\n",
        "Once a set is created, you cannot change its items, but you can remove items and add new items.\n",
        "\n",
        "Sets cannot have two items with the same value.\n",
        "\n",
        "To determine how many items a set has, use the len() function."
      ],
      "metadata": {
        "id": "9TprSEvvVy16"
      }
    },
    {
      "cell_type": "code",
      "source": [
        "# Note also, the items in a set are unchangeable, however, we can remove items and add new ones\n",
        "# Set items are written in curly brackets\n",
        "\n",
        "# for example\n",
        "\n",
        "thisset = {'Mangai', 'Makwal', 'Success'}\n",
        "thisset"
      ],
      "metadata": {
        "colab": {
          "base_uri": "https://localhost:8080/"
        },
        "id": "zmWowyKiWYc_",
        "outputId": "735553a0-de66-456e-d596-c203cf039691"
      },
      "execution_count": 1,
      "outputs": [
        {
          "output_type": "execute_result",
          "data": {
            "text/plain": [
              "{'Makwal', 'Mangai', 'Success'}"
            ]
          },
          "metadata": {},
          "execution_count": 1
        }
      ]
    },
    {
      "cell_type": "code",
      "source": [
        "# from the output of the above example, we can deduce that the items in a set are unorder, i.e we can not tell the manner in which they will appear\n",
        "\n",
        "# also, set items can not duplicate value, for example:\n",
        "\n",
        "myset = {'Mbwas', 'Favour', 'Melody', 'Melody'}\n",
        "myset"
      ],
      "metadata": {
        "colab": {
          "base_uri": "https://localhost:8080/"
        },
        "id": "yMBQ4qA3W5X_",
        "outputId": "27245711-a1f5-478e-e787-255d1e09242d"
      },
      "execution_count": 2,
      "outputs": [
        {
          "output_type": "execute_result",
          "data": {
            "text/plain": [
              "{'Favour', 'Mbwas', 'Melody'}"
            ]
          },
          "metadata": {},
          "execution_count": 2
        }
      ]
    },
    {
      "cell_type": "code",
      "source": [
        "# The values 'True' and '1' are considered the same in set, therefore, they dont duplicate.\n",
        "# In the same way, 'False' and '0' dont duplicate because they are seen as one in set, for example:\n",
        "\n",
        "class_set = {'Mbwas', 'Mangai', True, 2,2,1, 0, False}\n",
        "class_set"
      ],
      "metadata": {
        "colab": {
          "base_uri": "https://localhost:8080/"
        },
        "id": "_K8EmeCrX92U",
        "outputId": "6bcbbaf4-2dde-4820-f1f9-9fbe831038cf"
      },
      "execution_count": 4,
      "outputs": [
        {
          "output_type": "execute_result",
          "data": {
            "text/plain": [
              "{0, 2, 'Mangai', 'Mbwas', True}"
            ]
          },
          "metadata": {},
          "execution_count": 4
        }
      ]
    },
    {
      "cell_type": "markdown",
      "source": [
        "# The set constructor.\n",
        "\n",
        "It is also possible to use the set() constructor to make a set. In Python, the set constructor refers specifically to the built-in set() function, which is used to create and initialize set objects."
      ],
      "metadata": {
        "id": "wJcYRY0sZNdF"
      }
    },
    {
      "cell_type": "code",
      "source": [
        "# Example of how the set constructor works\n",
        "\n",
        "myset1 = set(('Mbwas', 'Favour', 'Melody', 'Melody'))    #The double parenthesis makes it possible to form the set\n",
        "myset1"
      ],
      "metadata": {
        "colab": {
          "base_uri": "https://localhost:8080/"
        },
        "id": "Vq2qTF-UZRlB",
        "outputId": "d6e2fe1d-e30c-4e98-e056-5f88297d23fc"
      },
      "execution_count": 5,
      "outputs": [
        {
          "output_type": "execute_result",
          "data": {
            "text/plain": [
              "{'Favour', 'Mbwas', 'Melody'}"
            ]
          },
          "metadata": {},
          "execution_count": 5
        }
      ]
    },
    {
      "cell_type": "code",
      "source": [],
      "metadata": {
        "id": "TFhL3Q0DZ7_Q"
      },
      "execution_count": null,
      "outputs": []
    },
    {
      "cell_type": "markdown",
      "source": [
        "# Python-Access set items\n",
        "\n",
        "You cannot access items in a set by referring to an index or a key.\n",
        "\n",
        "But you can loop through the set items using a 'for loop', or ask if a specified value is present in a set, by using the 'in' keyword.\n",
        "\n",
        "# Add Items\n",
        "Once a set is created, you cannot change its items, but you can add new items.\n",
        "\n",
        "To add one item to a set use the add() method.\n",
        "\n",
        "# Add Sets\n",
        "To add items from another set into the current set, use the update() method.\n",
        " The object in the update() method does not have to be a set, it can be any iterable object (tuples, lists, dictionaries etc.).\n",
        "\n",
        " # Remove Item\n",
        "To remove an item in a set, use the remove(), or the discard() method.\n",
        "\n",
        "Note: If the item to remove does not exist, remove() will raise an error.  If the item to remove does not exist, discard() will NOT raise an error."
      ],
      "metadata": {
        "id": "meZwZ51daN5x"
      }
    },
    {
      "cell_type": "code",
      "source": [
        "myset1"
      ],
      "metadata": {
        "colab": {
          "base_uri": "https://localhost:8080/"
        },
        "id": "ZrRIWBKhagAc",
        "outputId": "ba320fc6-19be-4492-fc16-bb0d7b1a03a0"
      },
      "execution_count": 6,
      "outputs": [
        {
          "output_type": "execute_result",
          "data": {
            "text/plain": [
              "{'Favour', 'Mbwas', 'Melody'}"
            ]
          },
          "metadata": {},
          "execution_count": 6
        }
      ]
    },
    {
      "cell_type": "code",
      "source": [
        "for x in myset1:      #how we loop the items in a set\n",
        "  print(x)"
      ],
      "metadata": {
        "colab": {
          "base_uri": "https://localhost:8080/"
        },
        "id": "TkkX7OA7atil",
        "outputId": "2d325784-fe6b-4d2a-b98a-e140d43a5aba"
      },
      "execution_count": 7,
      "outputs": [
        {
          "output_type": "stream",
          "name": "stdout",
          "text": [
            "Favour\n",
            "Mbwas\n",
            "Melody\n"
          ]
        }
      ]
    },
    {
      "cell_type": "code",
      "source": [
        "#to use the in keyword\n",
        "\n",
        "print(\"Mbwas\" in myset1)"
      ],
      "metadata": {
        "colab": {
          "base_uri": "https://localhost:8080/"
        },
        "id": "_BUCgKsCaxmq",
        "outputId": "3abbdfa4-5308-4f19-9226-803be8df15c8"
      },
      "execution_count": 8,
      "outputs": [
        {
          "output_type": "stream",
          "name": "stdout",
          "text": [
            "True\n"
          ]
        }
      ]
    },
    {
      "cell_type": "code",
      "source": [
        "print('Makwal' not in myset1)"
      ],
      "metadata": {
        "colab": {
          "base_uri": "https://localhost:8080/"
        },
        "id": "NBpmo-MEbHQc",
        "outputId": "81f8658c-4a48-420f-d8a0-0322045055d6"
      },
      "execution_count": 9,
      "outputs": [
        {
          "output_type": "stream",
          "name": "stdout",
          "text": [
            "True\n"
          ]
        }
      ]
    },
    {
      "cell_type": "code",
      "source": [
        "# To add items\n",
        "myset1"
      ],
      "metadata": {
        "colab": {
          "base_uri": "https://localhost:8080/"
        },
        "id": "zsrunkFEbMBU",
        "outputId": "adcf862c-5d2c-4a0b-99ac-d542af90f893"
      },
      "execution_count": 10,
      "outputs": [
        {
          "output_type": "execute_result",
          "data": {
            "text/plain": [
              "{'Favour', 'Mbwas', 'Melody'}"
            ]
          },
          "metadata": {},
          "execution_count": 10
        }
      ]
    },
    {
      "cell_type": "code",
      "source": [
        "myset1.add('Makwal')\n",
        "myset1"
      ],
      "metadata": {
        "colab": {
          "base_uri": "https://localhost:8080/"
        },
        "id": "wta3hIlgbltC",
        "outputId": "6ea788c9-1f26-4fea-eb7e-213a36edef85"
      },
      "execution_count": 11,
      "outputs": [
        {
          "output_type": "execute_result",
          "data": {
            "text/plain": [
              "{'Favour', 'Makwal', 'Mbwas', 'Melody'}"
            ]
          },
          "metadata": {},
          "execution_count": 11
        }
      ]
    },
    {
      "cell_type": "code",
      "source": [
        "# Use the update keyword to add sets\n",
        "\n",
        "thisset"
      ],
      "metadata": {
        "colab": {
          "base_uri": "https://localhost:8080/"
        },
        "id": "GBAQI_w5brn_",
        "outputId": "4488252d-7525-457a-e444-766c0af7b9f2"
      },
      "execution_count": 12,
      "outputs": [
        {
          "output_type": "execute_result",
          "data": {
            "text/plain": [
              "{'Makwal', 'Mangai', 'Success'}"
            ]
          },
          "metadata": {},
          "execution_count": 12
        }
      ]
    },
    {
      "cell_type": "code",
      "source": [
        "myset1"
      ],
      "metadata": {
        "colab": {
          "base_uri": "https://localhost:8080/"
        },
        "id": "i4maL1vob7NQ",
        "outputId": "2f1b2dd3-2f05-4658-e687-4f67d1fa72bb"
      },
      "execution_count": 13,
      "outputs": [
        {
          "output_type": "execute_result",
          "data": {
            "text/plain": [
              "{'Favour', 'Makwal', 'Mbwas', 'Melody'}"
            ]
          },
          "metadata": {},
          "execution_count": 13
        }
      ]
    },
    {
      "cell_type": "code",
      "source": [
        "thisset.update(myset1)\n",
        "thisset"
      ],
      "metadata": {
        "colab": {
          "base_uri": "https://localhost:8080/"
        },
        "id": "mJwQ3Bv8b8d0",
        "outputId": "cc5693bd-0997-41e7-b14c-7cf20197b8a9"
      },
      "execution_count": 15,
      "outputs": [
        {
          "output_type": "execute_result",
          "data": {
            "text/plain": [
              "{'Favour', 'Makwal', 'Mangai', 'Mbwas', 'Melody', 'Success'}"
            ]
          },
          "metadata": {},
          "execution_count": 15
        }
      ]
    },
    {
      "cell_type": "code",
      "source": [
        "# The object in the update() method does not have to be a set, it can be any iterable object (tuples, lists, dictionaries etc.).\n",
        "\n",
        "mydict = {'name': \"Mbwas\", 'age': 26, 'gender': 'male'}\n",
        "mydict"
      ],
      "metadata": {
        "colab": {
          "base_uri": "https://localhost:8080/"
        },
        "id": "C_J70lsQcCy6",
        "outputId": "56ee8b2e-aee9-4523-e2c5-e2e04180c693"
      },
      "execution_count": 16,
      "outputs": [
        {
          "output_type": "execute_result",
          "data": {
            "text/plain": [
              "{'name': 'Mbwas', 'age': 26, 'gender': 'male'}"
            ]
          },
          "metadata": {},
          "execution_count": 16
        }
      ]
    },
    {
      "cell_type": "code",
      "source": [
        "thisset"
      ],
      "metadata": {
        "colab": {
          "base_uri": "https://localhost:8080/"
        },
        "id": "pVfS-asPcwc7",
        "outputId": "c750b3eb-99ac-414c-8f64-3f89da69534c"
      },
      "execution_count": 17,
      "outputs": [
        {
          "output_type": "execute_result",
          "data": {
            "text/plain": [
              "{'Favour', 'Makwal', 'Mangai', 'Mbwas', 'Melody', 'Success'}"
            ]
          },
          "metadata": {},
          "execution_count": 17
        }
      ]
    },
    {
      "cell_type": "code",
      "source": [
        "thisset.update(mydict)\n",
        "thisset"
      ],
      "metadata": {
        "colab": {
          "base_uri": "https://localhost:8080/"
        },
        "id": "rQki80-IczT1",
        "outputId": "11dbf6b0-9094-4a49-eb23-d4f407c6f233"
      },
      "execution_count": 18,
      "outputs": [
        {
          "output_type": "execute_result",
          "data": {
            "text/plain": [
              "{'Favour',\n",
              " 'Makwal',\n",
              " 'Mangai',\n",
              " 'Mbwas',\n",
              " 'Melody',\n",
              " 'Success',\n",
              " 'age',\n",
              " 'gender',\n",
              " 'name'}"
            ]
          },
          "metadata": {},
          "execution_count": 18
        }
      ]
    },
    {
      "cell_type": "code",
      "source": [
        "thisset"
      ],
      "metadata": {
        "colab": {
          "base_uri": "https://localhost:8080/"
        },
        "id": "WeV-dfkpc48t",
        "outputId": "daff9574-732e-4ff6-9899-73c33ea0f132"
      },
      "execution_count": 19,
      "outputs": [
        {
          "output_type": "execute_result",
          "data": {
            "text/plain": [
              "{'Favour',\n",
              " 'Makwal',\n",
              " 'Mangai',\n",
              " 'Mbwas',\n",
              " 'Melody',\n",
              " 'Success',\n",
              " 'age',\n",
              " 'gender',\n",
              " 'name'}"
            ]
          },
          "metadata": {},
          "execution_count": 19
        }
      ]
    },
    {
      "cell_type": "code",
      "source": [
        "thisset.remove('name')\n",
        "thisset"
      ],
      "metadata": {
        "colab": {
          "base_uri": "https://localhost:8080/"
        },
        "id": "oryPbAkGdkQY",
        "outputId": "bddafb87-386d-46ce-c31a-bdf7fdea4c46"
      },
      "execution_count": 20,
      "outputs": [
        {
          "output_type": "execute_result",
          "data": {
            "text/plain": [
              "{'Favour', 'Makwal', 'Mangai', 'Mbwas', 'Melody', 'Success', 'age', 'gender'}"
            ]
          },
          "metadata": {},
          "execution_count": 20
        }
      ]
    },
    {
      "cell_type": "code",
      "source": [
        "thisset.discard('gender')\n",
        "thisset"
      ],
      "metadata": {
        "colab": {
          "base_uri": "https://localhost:8080/"
        },
        "id": "3jnkQpbUdoqV",
        "outputId": "490176bc-3b9f-4890-80c7-79af584648e5"
      },
      "execution_count": 22,
      "outputs": [
        {
          "output_type": "execute_result",
          "data": {
            "text/plain": [
              "{'Favour', 'Makwal', 'Mangai', 'Mbwas', 'Melody', 'Success', 'age'}"
            ]
          },
          "metadata": {},
          "execution_count": 22
        }
      ]
    },
    {
      "cell_type": "code",
      "source": [
        "# You can also use the pop() method to remove an item, but this method will remove a random item, so you cannot be sure what item that gets removed.\n",
        "\n",
        "# The return value of the pop() method is the removed item. We can use a variable name to know the item  that is removed from the set,for example:\n",
        "\n",
        "x = thisset.pop()\n",
        "x"
      ],
      "metadata": {
        "colab": {
          "base_uri": "https://localhost:8080/",
          "height": 35
        },
        "id": "flpcwFFddtkh",
        "outputId": "26143d69-4213-4360-e2e3-b074474d5fef"
      },
      "execution_count": 24,
      "outputs": [
        {
          "output_type": "execute_result",
          "data": {
            "text/plain": [
              "'Mbwas'"
            ],
            "application/vnd.google.colaboratory.intrinsic+json": {
              "type": "string"
            }
          },
          "metadata": {},
          "execution_count": 24
        }
      ]
    },
    {
      "cell_type": "code",
      "source": [
        "# The clear() method empties the set, for example:\n",
        "myset1"
      ],
      "metadata": {
        "colab": {
          "base_uri": "https://localhost:8080/"
        },
        "id": "8V00bsLEd5NH",
        "outputId": "c2ea0048-bf37-45e8-e037-45ac56c3b850"
      },
      "execution_count": 25,
      "outputs": [
        {
          "output_type": "execute_result",
          "data": {
            "text/plain": [
              "{'Favour', 'Makwal', 'Mbwas', 'Melody'}"
            ]
          },
          "metadata": {},
          "execution_count": 25
        }
      ]
    },
    {
      "cell_type": "code",
      "source": [
        "myset1.clear()\n",
        "myset1"
      ],
      "metadata": {
        "colab": {
          "base_uri": "https://localhost:8080/"
        },
        "id": "3sRgfyaFeaMM",
        "outputId": "1c214ac0-c429-4a49-8167-f40b86b281d6"
      },
      "execution_count": 27,
      "outputs": [
        {
          "output_type": "execute_result",
          "data": {
            "text/plain": [
              "set()"
            ]
          },
          "metadata": {},
          "execution_count": 27
        }
      ]
    },
    {
      "cell_type": "code",
      "source": [
        "# The 'del' command will delete the set entirely"
      ],
      "metadata": {
        "id": "YFnSvwhcectb"
      },
      "execution_count": 36,
      "outputs": []
    },
    {
      "cell_type": "markdown",
      "source": [
        "# Python loops through set"
      ],
      "metadata": {
        "id": "_rRj7DALfPlu"
      }
    },
    {
      "cell_type": "code",
      "source": [
        "# You can loop through the set items by using a for loop, for example:\n",
        "thisset"
      ],
      "metadata": {
        "colab": {
          "base_uri": "https://localhost:8080/"
        },
        "id": "R22YFNBvfWrl",
        "outputId": "f31923b6-9b8f-4377-df9a-f62f3b337d7e"
      },
      "execution_count": 37,
      "outputs": [
        {
          "output_type": "execute_result",
          "data": {
            "text/plain": [
              "{'Favour', 'Makwal', 'Mangai', 'Melody', 'Success', 'age'}"
            ]
          },
          "metadata": {},
          "execution_count": 37
        }
      ]
    },
    {
      "cell_type": "code",
      "source": [
        "for i in thisset:\n",
        "  print(i)"
      ],
      "metadata": {
        "colab": {
          "base_uri": "https://localhost:8080/"
        },
        "id": "HejIqUnIfjnE",
        "outputId": "f703ea11-3cd0-4c11-c4d4-fadb2b428bcc"
      },
      "execution_count": 38,
      "outputs": [
        {
          "output_type": "stream",
          "name": "stdout",
          "text": [
            "Favour\n",
            "Melody\n",
            "Mangai\n",
            "age\n",
            "Makwal\n",
            "Success\n"
          ]
        }
      ]
    },
    {
      "cell_type": "markdown",
      "source": [
        "# Join sets\n",
        "\n",
        "There are several ways to join two or more sets in Python.\n",
        "\n",
        "\n",
        "\n",
        "The union() and update() methods joins all items from both sets.\n",
        "\n",
        "\n",
        "\n",
        "The intersection() method keeps ONLY the duplicates.\n",
        "\n",
        "\n",
        "\n",
        "The difference() method keeps the items from the first set that are not in the other set(s).\n",
        "\n",
        "\n",
        "\n",
        "The symmetric_difference() method keeps all items EXCEPT the duplicates."
      ],
      "metadata": {
        "id": "9qyZfTP-gh8B"
      }
    },
    {
      "cell_type": "code",
      "source": [
        "# The union() method returns a new set with all items from both sets.\n",
        "\n",
        "myset2 = {1,2,3,4,5}\n",
        "myset3 = {9,8,7,6,5}\n",
        "\n",
        "myset4 = myset2.union(myset3)\n",
        "myset4"
      ],
      "metadata": {
        "colab": {
          "base_uri": "https://localhost:8080/"
        },
        "id": "FFFyFczufpI3",
        "outputId": "f079bdb8-046c-4155-aea0-c80d35068f51"
      },
      "execution_count": 41,
      "outputs": [
        {
          "output_type": "execute_result",
          "data": {
            "text/plain": [
              "{1, 2, 3, 4, 5, 6, 7, 8, 9}"
            ]
          },
          "metadata": {},
          "execution_count": 41
        }
      ]
    },
    {
      "cell_type": "code",
      "source": [
        "# You can use the | operator instead of the union() method, and you will get the same result.\n",
        "\n",
        "myset4 = myset2|myset3\n",
        "myset4"
      ],
      "metadata": {
        "colab": {
          "base_uri": "https://localhost:8080/"
        },
        "id": "wynhKQryhQUU",
        "outputId": "0e7afeb9-15a5-4a6f-e67c-38401986ff55"
      },
      "execution_count": 43,
      "outputs": [
        {
          "output_type": "execute_result",
          "data": {
            "text/plain": [
              "{1, 2, 3, 4, 5, 6, 7, 8, 9}"
            ]
          },
          "metadata": {},
          "execution_count": 43
        }
      ]
    },
    {
      "cell_type": "code",
      "source": [
        "# we can join many sets together under the union\n",
        "set1 = {\"a\", \"b\", \"c\"}\n",
        "set2 = {1, 2, 3}\n",
        "set3 = {\"John\", \"Elena\"}\n",
        "set4 = {\"apple\", \"bananas\", \"cherry\"}\n",
        "\n",
        "set55 = set1.union(set2,set3,set4)\n",
        "set66 = set1|set2|set3|set4\n",
        "\n",
        "print(set55)\n",
        "print(set66)"
      ],
      "metadata": {
        "colab": {
          "base_uri": "https://localhost:8080/"
        },
        "id": "NPInlm6zhoGP",
        "outputId": "69c2f600-ce2f-4577-ae4d-90bfdadbce17"
      },
      "execution_count": 47,
      "outputs": [
        {
          "output_type": "stream",
          "name": "stdout",
          "text": [
            "{'John', 1, 2, 3, 'bananas', 'b', 'Elena', 'a', 'cherry', 'c', 'apple'}\n",
            "{'John', 1, 2, 3, 'bananas', 'b', 'Elena', 'a', 'cherry', 'c', 'apple'}\n"
          ]
        }
      ]
    },
    {
      "cell_type": "markdown",
      "source": [
        "# Joining with a tuple or other types of collections\n",
        "\n",
        "Note: The  | operator only allows you to join sets with sets, and not with other data types like you can with the  union() method.\n",
        "\n",
        "# Update\n",
        "The update() method inserts all items from one set into another.\n",
        "\n",
        "The update() changes the original set, and does not return a new set."
      ],
      "metadata": {
        "id": "5Dc2NRvqivEv"
      }
    },
    {
      "cell_type": "code",
      "source": [
        "# The union() method allows you to join a set with other data types, like lists or tuples.\n",
        "# The result will be a set.\n",
        "\n",
        "x = {1,2,3,4,5,6,7}\n",
        "y = (2,3,4,1)\n",
        "\n",
        "z = x.union(y)\n",
        "z"
      ],
      "metadata": {
        "colab": {
          "base_uri": "https://localhost:8080/"
        },
        "id": "HPvtO5n4iJ47",
        "outputId": "cf4a63bc-a09e-409d-953e-0541a6a5edce"
      },
      "execution_count": 49,
      "outputs": [
        {
          "output_type": "execute_result",
          "data": {
            "text/plain": [
              "{1, 2, 3, 4, 5, 6, 7}"
            ]
          },
          "metadata": {},
          "execution_count": 49
        }
      ]
    },
    {
      "cell_type": "markdown",
      "source": [
        "# Intersection\n",
        "Keep ONLY the duplicates\n",
        "\n",
        "The intersection() method will return a new set, that only contains the items that are present in both sets. The intersection_update() method will also keep ONLY the duplicates, but it will change the original set instead of returning a new set."
      ],
      "metadata": {
        "id": "Bq3h4VJKjWP0"
      }
    },
    {
      "cell_type": "code",
      "source": [
        "# for example\n",
        "x.intersection(y)"
      ],
      "metadata": {
        "colab": {
          "base_uri": "https://localhost:8080/"
        },
        "id": "4K2tjVCIjDI4",
        "outputId": "d078e552-f30f-4959-fa7d-942d5a4532c3"
      },
      "execution_count": 50,
      "outputs": [
        {
          "output_type": "execute_result",
          "data": {
            "text/plain": [
              "{1, 2, 3, 4}"
            ]
          },
          "metadata": {},
          "execution_count": 50
        }
      ]
    },
    {
      "cell_type": "code",
      "source": [
        "# You can use the & operator instead of the intersection() method, and you will get the same result. It works only for sets.\n",
        "a = {2,3,4,2,3,5}\n",
        "z = x & a\n",
        "z"
      ],
      "metadata": {
        "colab": {
          "base_uri": "https://localhost:8080/"
        },
        "id": "rx4eglMZjdyh",
        "outputId": "0d8089cf-55e9-47c7-b55c-fbe480c78ae1"
      },
      "execution_count": 53,
      "outputs": [
        {
          "output_type": "execute_result",
          "data": {
            "text/plain": [
              "{2, 3, 4, 5}"
            ]
          },
          "metadata": {},
          "execution_count": 53
        }
      ]
    },
    {
      "cell_type": "markdown",
      "source": [
        "# Difference\n",
        "The difference() method will return a new set that will contain only the items from the first set that are not present in the other set.\n",
        "\n",
        "You can use the - operator instead of the difference() method, and you will get the same result. This only works for sets alone.\n",
        "\n",
        "Symmetric Differences\n",
        "The symmetric_difference() method will keep only the elements that are NOT present in both sets."
      ],
      "metadata": {
        "id": "WMXwDrHbkK22"
      }
    },
    {
      "cell_type": "code",
      "source": [
        "g = {'football', 'baseball', 'boxing'}\n",
        "h = {'baseball', 'boxing'}\n",
        "\n",
        "i = g.difference(h)\n",
        "i"
      ],
      "metadata": {
        "colab": {
          "base_uri": "https://localhost:8080/"
        },
        "id": "T73lwthvjn3T",
        "outputId": "09fb8cfc-b33e-4ec0-cd25-8f456283f342"
      },
      "execution_count": 54,
      "outputs": [
        {
          "output_type": "execute_result",
          "data": {
            "text/plain": [
              "{'football'}"
            ]
          },
          "metadata": {},
          "execution_count": 54
        }
      ]
    }
  ]
}