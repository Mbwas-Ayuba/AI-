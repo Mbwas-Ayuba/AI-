{
  "nbformat": 4,
  "nbformat_minor": 0,
  "metadata": {
    "colab": {
      "provenance": [],
      "authorship_tag": "ABX9TyMGUZGv8jnr95SxESoBqa2J",
      "include_colab_link": true
    },
    "kernelspec": {
      "name": "python3",
      "display_name": "Python 3"
    },
    "language_info": {
      "name": "python"
    }
  },
  "cells": [
    {
      "cell_type": "markdown",
      "metadata": {
        "id": "view-in-github",
        "colab_type": "text"
      },
      "source": [
        "<a href=\"https://colab.research.google.com/github/Mbwas-Ayuba/AI-/blob/main/Python_functions_and_lambda.ipynb\" target=\"_parent\"><img src=\"https://colab.research.google.com/assets/colab-badge.svg\" alt=\"Open In Colab\"/></a>"
      ]
    },
    {
      "cell_type": "markdown",
      "source": [
        "# Python Function and Lambda\n",
        "\n",
        "A function is a block of code which only runs when it is called. You can pass data, known as parameters, into a function. A function can return data as a result.\n",
        "\n",
        "A function in Python is a reusable block of code that performs a specific task. Instead of writing the same code multiple times, you can put it inside a function and call it whenever you need it."
      ],
      "metadata": {
        "id": "QpOmYtGBmoB7"
      }
    },
    {
      "cell_type": "markdown",
      "source": [
        "# Creating a Function\n",
        "In Python a function is defined using the def keyword:"
      ],
      "metadata": {
        "id": "-rgZva4fnHve"
      }
    },
    {
      "cell_type": "code",
      "execution_count": null,
      "metadata": {
        "id": "tEod18LmmjQw"
      },
      "outputs": [],
      "source": [
        "# for example\n",
        "def my_function():\n",
        "  print(\"Hello from a function.\")"
      ]
    },
    {
      "cell_type": "markdown",
      "source": [
        "# Calling a Function\n",
        "To call a function, use the function name followed by parenthesis:"
      ],
      "metadata": {
        "id": "z8UBp-y6ndS1"
      }
    },
    {
      "cell_type": "code",
      "source": [
        "my_function()"
      ],
      "metadata": {
        "colab": {
          "base_uri": "https://localhost:8080/"
        },
        "id": "X1aEDu7znRuN",
        "outputId": "a397c990-108d-48d2-f5ce-f887421f0b64"
      },
      "execution_count": null,
      "outputs": [
        {
          "output_type": "stream",
          "name": "stdout",
          "text": [
            "Hello from a function.\n"
          ]
        }
      ]
    },
    {
      "cell_type": "markdown",
      "source": [
        "# Arguments\n",
        "Information can be passed into functions as arguments.\n",
        "\n",
        "Arguments are specified after the function name, inside the parentheses. You can add as many arguments as you want, just separate them with a comma.\n",
        "\n",
        "The following example has a function with one argument (fname). When the function is called, we pass along a first name, which is used inside the function to print the full name:\n",
        "\n",
        "***Arguments are often shortened to args in Python documentations.***"
      ],
      "metadata": {
        "id": "1GaFJTdUnmF2"
      }
    },
    {
      "cell_type": "code",
      "source": [
        "# for example\n",
        "\n",
        "def my_function(first_name):\n",
        "  print(first_name + \"\\nYou are precious to me\")\n",
        "\n",
        "my_function(' Mbwas')"
      ],
      "metadata": {
        "colab": {
          "base_uri": "https://localhost:8080/"
        },
        "id": "yMUTCc-DnUBw",
        "outputId": "9b62b54e-7022-41ed-bacd-3bf5aa5c930f"
      },
      "execution_count": null,
      "outputs": [
        {
          "output_type": "stream",
          "name": "stdout",
          "text": [
            "Mbwas\n",
            "You are precious to me\n"
          ]
        }
      ]
    },
    {
      "cell_type": "markdown",
      "source": [
        "# Parameters or Arguments?\n",
        "The terms parameter and argument can be used for the same thing: information that are passed into a function.\n",
        "\n",
        "From a function's perspective:\n",
        "\n",
        "A parameter is the variable listed inside the parentheses in the function definition.\n",
        "\n",
        "An argument is the value that is sent to the function when it is called.\n",
        "\n",
        "Parameter → A placeholder inside the function definition. Think of it as an empty box waiting to be filled.\n",
        "\n",
        "Argument → The actual value you give to the function when you call it. This is what fills the box."
      ],
      "metadata": {
        "id": "UkdZtowIpWa-"
      }
    },
    {
      "cell_type": "markdown",
      "source": [
        "# Number of Arguments\n",
        "By default, a function must be called with the correct number of arguments. Meaning that if your function expects 2 arguments, you have to call the function with 2 arguments, not more, and not less."
      ],
      "metadata": {
        "id": "c3WjeHDQqLIA"
      }
    },
    {
      "cell_type": "code",
      "source": [
        "# his function expects 2 arguments, and gets 2 arguments\n",
        "# for example\n",
        "\n",
        "def my_function(first_name, last_name):\n",
        "  print(first_name + \" \" + last_name)"
      ],
      "metadata": {
        "id": "EP8LGNGGoQ5c"
      },
      "execution_count": null,
      "outputs": []
    },
    {
      "cell_type": "code",
      "source": [
        "my_function('Hannah', 'Caleb')\n",
        "\n",
        "# if we don't input two arguments the output returns an error."
      ],
      "metadata": {
        "colab": {
          "base_uri": "https://localhost:8080/"
        },
        "id": "KkMzgEfvqfDq",
        "outputId": "9f648076-b682-47ca-d1c9-b1b051b947a1"
      },
      "execution_count": null,
      "outputs": [
        {
          "output_type": "stream",
          "name": "stdout",
          "text": [
            "Hannah Caleb\n"
          ]
        }
      ]
    },
    {
      "cell_type": "markdown",
      "source": [
        "# Arbitrary Arguments, *args\n",
        "If you do not know how many arguments that will be passed into your function, add a * before the parameter name in the function definition. Arbitrary Arguments are often shortened to *args in Python documentations.\n",
        "\n",
        "This way the function will receive a tuple of arguments, and can access the items accordingly:"
      ],
      "metadata": {
        "id": "m7Lmx2azq5TJ"
      }
    },
    {
      "cell_type": "code",
      "source": [
        "# for example\n",
        "\n",
        "def family_data(*names_of_kids):\n",
        "  print('The last born in the family is ' + names_of_kids[-1])"
      ],
      "metadata": {
        "id": "lEdY1_-rqqGJ"
      },
      "execution_count": null,
      "outputs": []
    },
    {
      "cell_type": "code",
      "source": [
        "family_data('Success', 'Delight', 'Kweneng', 'Esther')"
      ],
      "metadata": {
        "colab": {
          "base_uri": "https://localhost:8080/"
        },
        "id": "5bVRKgbwrVOg",
        "outputId": "00b20328-ab11-4af3-c031-e3b660b26851"
      },
      "execution_count": null,
      "outputs": [
        {
          "output_type": "stream",
          "name": "stdout",
          "text": [
            "The last born in the family is Esther\n"
          ]
        }
      ]
    },
    {
      "cell_type": "markdown",
      "source": [
        "# Arbitrary Keyword Arguments, **kwargs\n",
        "If you do not know how many keyword arguments that will be passed into your function, add two asterisk: ** before the parameter name in the function definition.\n",
        "\n",
        "This way the function will receive a dictionary of arguments, and can access the items accordingly:"
      ],
      "metadata": {
        "id": "rsQXrac2r33F"
      }
    },
    {
      "cell_type": "code",
      "source": [
        "def my_data(**child):\n",
        "  print(\"His last name is \" + child[\"last_name\"])"
      ],
      "metadata": {
        "id": "2hdiq6_2rj71"
      },
      "execution_count": null,
      "outputs": []
    },
    {
      "cell_type": "code",
      "source": [
        "my_data(first_name = 'Mbwas', last_name = 'Caleb')"
      ],
      "metadata": {
        "colab": {
          "base_uri": "https://localhost:8080/"
        },
        "id": "CVfE69rksIW0",
        "outputId": "26769734-df25-4784-ec6a-0ba2862993d0"
      },
      "execution_count": null,
      "outputs": [
        {
          "output_type": "stream",
          "name": "stdout",
          "text": [
            "His last name is Caleb\n"
          ]
        }
      ]
    },
    {
      "cell_type": "markdown",
      "source": [
        "# Default Parameter Value\n",
        "In Python, a default in a function means a pre‑set value you give to a parameter so that if the caller doesn’t provide that argument, Python will automatically use the default instead.\n",
        "\n",
        "\n",
        "The following example shows how to use a default parameter value.\n",
        "\n",
        "If we call the function without argument, it uses the default value:"
      ],
      "metadata": {
        "id": "BDk2GpT0WzZo"
      }
    },
    {
      "cell_type": "code",
      "source": [
        "# example\n",
        "\n",
        "def my_info(country = 'Nigeria'):\n",
        "  print('I am from ' + country)"
      ],
      "metadata": {
        "id": "cM9OIMbPsW8j"
      },
      "execution_count": null,
      "outputs": []
    },
    {
      "cell_type": "code",
      "source": [
        "my_info('Kenya')\n",
        "my_info('Uganda')\n",
        "my_info()"
      ],
      "metadata": {
        "colab": {
          "base_uri": "https://localhost:8080/"
        },
        "id": "lt4vFe5fjqD0",
        "outputId": "5b5a5dbd-e654-4a63-d72b-ac8aee39dc92"
      },
      "execution_count": null,
      "outputs": [
        {
          "output_type": "stream",
          "name": "stdout",
          "text": [
            "I am from Kenya\n",
            "I am from Uganda\n",
            "I am from Nigeria\n"
          ]
        }
      ]
    },
    {
      "cell_type": "markdown",
      "source": [
        "# Passing a List as an Argument\n",
        "You can send any data types of argument to a function (string, number, list, dictionary etc.), and it will be treated as the same data type inside the function.\n",
        "\n",
        "E.g. if you send a List as an argument, it will still be a List when it reaches the function:"
      ],
      "metadata": {
        "id": "WwzARn2xmI7S"
      }
    },
    {
      "cell_type": "code",
      "source": [],
      "metadata": {
        "id": "Dz5mwiFIj1Ip"
      },
      "execution_count": null,
      "outputs": []
    },
    {
      "cell_type": "markdown",
      "source": [
        "# Return Values\n",
        "To let a function return a value, use the return statement:"
      ],
      "metadata": {
        "id": "rER58InAy1Vo"
      }
    },
    {
      "cell_type": "code",
      "source": [
        "# for example\n",
        "def multiplication_function(x):\n",
        "  return 5 * x"
      ],
      "metadata": {
        "id": "cBTAPAmHy5Nw"
      },
      "execution_count": 1,
      "outputs": []
    },
    {
      "cell_type": "code",
      "source": [
        "print(multiplication_function(10))\n",
        "print(multiplication_function(2))\n",
        "print(multiplication_function(3))"
      ],
      "metadata": {
        "colab": {
          "base_uri": "https://localhost:8080/"
        },
        "id": "-1fr0NMIzhtD",
        "outputId": "07304832-484f-4a92-c536-61b72b9b5dcf"
      },
      "execution_count": 3,
      "outputs": [
        {
          "output_type": "stream",
          "name": "stdout",
          "text": [
            "50\n",
            "10\n",
            "15\n"
          ]
        }
      ]
    },
    {
      "cell_type": "code",
      "source": [
        "def add_numbers(a,b):\n",
        "  sum = a + b\n",
        "  return(sum)\n",
        "\n",
        "sum_of_numbers = add_numbers(10,20)\n",
        "print(sum_of_numbers)"
      ],
      "metadata": {
        "colab": {
          "base_uri": "https://localhost:8080/"
        },
        "id": "Mjbz1D1kz0Ac",
        "outputId": "ba47b636-893c-4533-a0cb-37f644bbc5c1"
      },
      "execution_count": 4,
      "outputs": [
        {
          "output_type": "stream",
          "name": "stdout",
          "text": [
            "30\n"
          ]
        }
      ]
    },
    {
      "cell_type": "markdown",
      "source": [
        "# The pass Statement\n",
        "Function definitions cannot be empty, but if you for some reason have a function definition with no content, put in the pass statement to avoid getting an error."
      ],
      "metadata": {
        "id": "sdVx8gjazxKV"
      }
    },
    {
      "cell_type": "code",
      "source": [],
      "metadata": {
        "id": "CJTeU9adzrnl"
      },
      "execution_count": null,
      "outputs": []
    },
    {
      "cell_type": "markdown",
      "source": [
        "# Python Lamba\n",
        "A lambda function is a small anonymous function.\n",
        "A lambda function can take any number of arguments, but can only have one expression.\n",
        "\n",
        "Syntax\n",
        "lambda arguments : expression\n",
        "\n",
        "\n",
        "The expression is executed and the result is returned:"
      ],
      "metadata": {
        "id": "lIdX6RAz1fYR"
      }
    },
    {
      "cell_type": "code",
      "source": [
        "# for example\n",
        "\n",
        "a = lambda x : x + 10\n",
        "print(a(5))"
      ],
      "metadata": {
        "colab": {
          "base_uri": "https://localhost:8080/"
        },
        "id": "Z4z-rGfT1oRF",
        "outputId": "b37c985c-85d5-45a4-ea32-e8cf6371005c"
      },
      "execution_count": 7,
      "outputs": [
        {
          "output_type": "stream",
          "name": "stdout",
          "text": [
            "15\n"
          ]
        }
      ]
    },
    {
      "cell_type": "code",
      "source": [
        "# Lambda functions can take any number of arguments:\n",
        "\n",
        "x = lambda a, b : a * b\n",
        "print(x(5, 6))"
      ],
      "metadata": {
        "colab": {
          "base_uri": "https://localhost:8080/"
        },
        "id": "d30_eBdg4Qgv",
        "outputId": "0a16e526-f813-4d71-9022-c5fad4709e5c"
      },
      "execution_count": 9,
      "outputs": [
        {
          "output_type": "stream",
          "name": "stdout",
          "text": [
            "30\n"
          ]
        }
      ]
    },
    {
      "cell_type": "code",
      "source": [
        "sum_of_three = lambda a, b, c : a + b + c\n",
        "print(sum_of_three(1, 2, 3))"
      ],
      "metadata": {
        "colab": {
          "base_uri": "https://localhost:8080/"
        },
        "id": "Jsj2xvH-5Gab",
        "outputId": "b5ca342d-a638-44ec-8051-3cc1a96bd30c"
      },
      "execution_count": 11,
      "outputs": [
        {
          "output_type": "stream",
          "name": "stdout",
          "text": [
            "6\n"
          ]
        }
      ]
    },
    {
      "cell_type": "markdown",
      "source": [
        "# Why Use Lambda Functions?\n",
        "The power of lambda is better shown when you use them as an anonymous function inside another function.\n",
        "\n",
        "Say you have a function definition that takes one argument, and that argument will be multiplied with an unknown number:"
      ],
      "metadata": {
        "id": "YU9Te1xk66c0"
      }
    },
    {
      "cell_type": "code",
      "source": [
        "# for example\n",
        "\n",
        "def myfunc(n):\n",
        "  return lambda a : a * n\n",
        "\n",
        "mydoubler = myfunc(2)\n",
        "\n",
        "print(mydoubler(11))"
      ],
      "metadata": {
        "colab": {
          "base_uri": "https://localhost:8080/"
        },
        "id": "ABkoR9dT6idU",
        "outputId": "f661a535-610c-4030-fb9a-ee36c5a2bf54"
      },
      "execution_count": 12,
      "outputs": [
        {
          "output_type": "stream",
          "name": "stdout",
          "text": [
            "22\n"
          ]
        }
      ]
    },
    {
      "cell_type": "code",
      "source": [
        "# another example\n",
        "\n",
        "def myfunc(n):\n",
        "  return lambda x : x * n\n",
        "\n",
        "mytripler = myfunc(3)\n",
        "\n",
        "print(mytripler(11))"
      ],
      "metadata": {
        "colab": {
          "base_uri": "https://localhost:8080/"
        },
        "id": "wl7CMN1I70lA",
        "outputId": "6d4d0393-1c30-4327-a368-e7f33bf5ef1a"
      },
      "execution_count": 15,
      "outputs": [
        {
          "output_type": "stream",
          "name": "stdout",
          "text": [
            "33\n"
          ]
        }
      ]
    },
    {
      "cell_type": "code",
      "source": [],
      "metadata": {
        "id": "Xft--Mxk8OwA"
      },
      "execution_count": null,
      "outputs": []
    }
  ]
}