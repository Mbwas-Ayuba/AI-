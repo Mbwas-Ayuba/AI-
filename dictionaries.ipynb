{
  "nbformat": 4,
  "nbformat_minor": 0,
  "metadata": {
    "colab": {
      "provenance": [],
      "authorship_tag": "ABX9TyNfMEqIGJB0vP2v1a1klzij",
      "include_colab_link": true
    },
    "kernelspec": {
      "name": "python3",
      "display_name": "Python 3"
    },
    "language_info": {
      "name": "python"
    }
  },
  "cells": [
    {
      "cell_type": "markdown",
      "metadata": {
        "id": "view-in-github",
        "colab_type": "text"
      },
      "source": [
        "<a href=\"https://colab.research.google.com/github/Mbwas-Ayuba/AI-/blob/main/dictionaries.ipynb\" target=\"_parent\"><img src=\"https://colab.research.google.com/assets/colab-badge.svg\" alt=\"Open In Colab\"/></a>"
      ]
    },
    {
      "cell_type": "markdown",
      "source": [
        "# Python Dictionaries\n",
        "\n",
        "A Python dictionary is a built-in data structure that stores data in key-value pairs. It is a fundamental and highly versatile tool for organizing and retrieving data efficiently in Python programming. Dictionaries are used to store data values in key:value pairs.\n",
        "\n",
        "A dictionary is a collection which is ordered*, changeable and do not allow duplicates."
      ],
      "metadata": {
        "id": "sLDpoBKXW9eL"
      }
    },
    {
      "cell_type": "code",
      "execution_count": 1,
      "metadata": {
        "id": "uh5C9jG1W7rV"
      },
      "outputs": [],
      "source": [
        "# Dictionaries are written with curly brackets, and have keys and values:\n",
        "# for example\n",
        "\n",
        "mydict = {'name': 'mbwas',\n",
        "          'age': 26,\n",
        "          'last name': 'caleb',\n",
        "          'home town': 'wumat',\n",
        "          'course': 'python'}"
      ]
    },
    {
      "cell_type": "code",
      "source": [
        "mydict"
      ],
      "metadata": {
        "colab": {
          "base_uri": "https://localhost:8080/"
        },
        "id": "R1o7A1lSYZI6",
        "outputId": "5db0ba04-b9d6-4a94-b175-5eed9518eb94"
      },
      "execution_count": 2,
      "outputs": [
        {
          "output_type": "execute_result",
          "data": {
            "text/plain": [
              "{'name': 'mbwas',\n",
              " 'age': 26,\n",
              " 'last name': 'caleb',\n",
              " 'home town': 'wumat',\n",
              " 'course': 'python'}"
            ]
          },
          "metadata": {},
          "execution_count": 2
        }
      ]
    },
    {
      "cell_type": "code",
      "source": [
        "mydict['name'].upper()"
      ],
      "metadata": {
        "colab": {
          "base_uri": "https://localhost:8080/",
          "height": 35
        },
        "id": "V3qtRmqpY_Ia",
        "outputId": "ed59077a-d605-40db-f7ed-b61d1598fd0c"
      },
      "execution_count": 3,
      "outputs": [
        {
          "output_type": "execute_result",
          "data": {
            "text/plain": [
              "'MBWAS'"
            ],
            "application/vnd.google.colaboratory.intrinsic+json": {
              "type": "string"
            }
          },
          "metadata": {},
          "execution_count": 3
        }
      ]
    },
    {
      "cell_type": "code",
      "source": [
        "mydict['home town'].capitalize()"
      ],
      "metadata": {
        "colab": {
          "base_uri": "https://localhost:8080/",
          "height": 35
        },
        "id": "0qf7VpOZZJUk",
        "outputId": "813f8804-74c1-4105-ba85-8766acbf4411"
      },
      "execution_count": 4,
      "outputs": [
        {
          "output_type": "execute_result",
          "data": {
            "text/plain": [
              "'Wumat'"
            ],
            "application/vnd.google.colaboratory.intrinsic+json": {
              "type": "string"
            }
          },
          "metadata": {},
          "execution_count": 4
        }
      ]
    },
    {
      "cell_type": "code",
      "source": [
        "# When we say that dictionaries are ordered, it means that the items have a defined order, and that order will not change.\n",
        "# Unordered means that the items do not have a defined order, you cannot refer to an item by using an index.\n",
        "# Dictionaries are changeable, meaning that we can change, add or remove items after the dictionary has been created.\n",
        "# Dictionaries cannot have two items with the same key:\n",
        "# for example\n",
        "\n",
        "mydict"
      ],
      "metadata": {
        "colab": {
          "base_uri": "https://localhost:8080/"
        },
        "id": "w7n3XtolZo9L",
        "outputId": "bf8699eb-a9e1-4e21-8b8c-91fac08598fd"
      },
      "execution_count": 5,
      "outputs": [
        {
          "output_type": "execute_result",
          "data": {
            "text/plain": [
              "{'name': 'mbwas',\n",
              " 'age': 26,\n",
              " 'last name': 'caleb',\n",
              " 'home town': 'wumat',\n",
              " 'course': 'python'}"
            ]
          },
          "metadata": {},
          "execution_count": 5
        }
      ]
    },
    {
      "cell_type": "code",
      "source": [
        "mydict['course'] = 'javascript'"
      ],
      "metadata": {
        "id": "QMxeaUSLcQvt"
      },
      "execution_count": 6,
      "outputs": []
    },
    {
      "cell_type": "code",
      "source": [
        "mydict  #it will update the course as javascript but not the two at the same time"
      ],
      "metadata": {
        "colab": {
          "base_uri": "https://localhost:8080/"
        },
        "id": "j_n4nftwckmI",
        "outputId": "cd85b563-5a57-4fb6-f572-968bbd7b4994"
      },
      "execution_count": 7,
      "outputs": [
        {
          "output_type": "execute_result",
          "data": {
            "text/plain": [
              "{'name': 'mbwas',\n",
              " 'age': 26,\n",
              " 'last name': 'caleb',\n",
              " 'home town': 'wumat',\n",
              " 'course': 'javascript'}"
            ]
          },
          "metadata": {},
          "execution_count": 7
        }
      ]
    },
    {
      "cell_type": "code",
      "source": [
        "# to check the datatype of a dictionary\n",
        "\n",
        "type(mydict)"
      ],
      "metadata": {
        "colab": {
          "base_uri": "https://localhost:8080/"
        },
        "id": "7DguI1R8cnnL",
        "outputId": "4948fbc3-1c1d-4f40-a02d-e6c589ad364b"
      },
      "execution_count": 8,
      "outputs": [
        {
          "output_type": "execute_result",
          "data": {
            "text/plain": [
              "dict"
            ]
          },
          "metadata": {},
          "execution_count": 8
        }
      ]
    },
    {
      "cell_type": "markdown",
      "source": [
        "# The dict() Constructor\n",
        "It is also possible to use the dict() constructor to make a dictionary.\n",
        "\n",
        "# Python Collections (Arrays)\n",
        "There are four collection data types in the Python programming language:\n",
        "\n",
        "List is a collection which is ordered and changeable. Allows duplicate members.\n",
        "Tuple is a collection which is ordered and unchangeable. Allows duplicate members.\n",
        "Set is a collection which is unordered, unchangeable*, and unindexed. No duplicate members.\n",
        "Dictionary is a collection which is ordered** and changeable. No duplicate members."
      ],
      "metadata": {
        "id": "-ZTBJEGsdDY2"
      }
    },
    {
      "cell_type": "code",
      "source": [
        "# Using the dict() method to make a dictionary:\n",
        "# consider the example below\n",
        "\n",
        "myinfo = dict(first_name='mbwas', last_name='caleb', age=26, home_town='wumat')"
      ],
      "metadata": {
        "id": "gWXnHoPWc8cD"
      },
      "execution_count": 9,
      "outputs": []
    },
    {
      "cell_type": "code",
      "source": [
        "myinfo"
      ],
      "metadata": {
        "colab": {
          "base_uri": "https://localhost:8080/"
        },
        "id": "TWGFgbnFdgL3",
        "outputId": "5dfec443-1beb-43e4-d681-c46ca7aba60b"
      },
      "execution_count": 10,
      "outputs": [
        {
          "output_type": "execute_result",
          "data": {
            "text/plain": [
              "{'first_name': 'mbwas', 'last_name': 'caleb', 'age': 26, 'home_town': 'wumat'}"
            ]
          },
          "metadata": {},
          "execution_count": 10
        }
      ]
    },
    {
      "cell_type": "code",
      "source": [
        "myinfo['first_name'].capitalize()"
      ],
      "metadata": {
        "colab": {
          "base_uri": "https://localhost:8080/",
          "height": 35
        },
        "id": "NT_2DtlKd5X5",
        "outputId": "05e5ae7b-4858-43f1-9d8e-3cfcee957198"
      },
      "execution_count": 11,
      "outputs": [
        {
          "output_type": "execute_result",
          "data": {
            "text/plain": [
              "'Mbwas'"
            ],
            "application/vnd.google.colaboratory.intrinsic+json": {
              "type": "string"
            }
          },
          "metadata": {},
          "execution_count": 11
        }
      ]
    },
    {
      "cell_type": "markdown",
      "source": [
        "# Access dictionary items\n",
        "\n",
        "\n",
        "You can access the items of a dictionary by referring to its key name, inside square brackets: just as it was used in the previous examples.\n",
        "\n",
        "There is also a method called get() that will give you the same result: for this we shall consider an example of how to access element using the function get\n",
        "\n",
        "# Get Keys\n",
        "The keys() method will return a list of all the keys in the dictionary"
      ],
      "metadata": {
        "id": "quUccqwEeSfv"
      }
    },
    {
      "cell_type": "code",
      "source": [
        "myinfo"
      ],
      "metadata": {
        "colab": {
          "base_uri": "https://localhost:8080/"
        },
        "id": "z_bu3UcLeAMs",
        "outputId": "a7ca0c13-c7a5-4c0c-9350-fecf5cf16835"
      },
      "execution_count": 12,
      "outputs": [
        {
          "output_type": "execute_result",
          "data": {
            "text/plain": [
              "{'first_name': 'mbwas', 'last_name': 'caleb', 'age': 26, 'home_town': 'wumat'}"
            ]
          },
          "metadata": {},
          "execution_count": 12
        }
      ]
    },
    {
      "cell_type": "code",
      "source": [
        "x = myinfo.get('first_name').capitalize()\n",
        "\n",
        "print(x)"
      ],
      "metadata": {
        "colab": {
          "base_uri": "https://localhost:8080/"
        },
        "id": "1rw_FaswewLZ",
        "outputId": "ddb1e9b1-1dbc-470f-ae40-d310f6ca69d9"
      },
      "execution_count": 13,
      "outputs": [
        {
          "output_type": "stream",
          "name": "stdout",
          "text": [
            "Mbwas\n"
          ]
        }
      ]
    },
    {
      "cell_type": "code",
      "source": [
        "# to access all the keys in the dictionary\n",
        "\n",
        "y = myinfo.keys()\n",
        "\n",
        "y"
      ],
      "metadata": {
        "colab": {
          "base_uri": "https://localhost:8080/"
        },
        "id": "45P1SMPUe1jp",
        "outputId": "b3440a02-c586-4005-f99d-0b1468561619"
      },
      "execution_count": 14,
      "outputs": [
        {
          "output_type": "execute_result",
          "data": {
            "text/plain": [
              "dict_keys(['first_name', 'last_name', 'age', 'home_town'])"
            ]
          },
          "metadata": {},
          "execution_count": 14
        }
      ]
    },
    {
      "cell_type": "code",
      "source": [
        "# to get the values from the dictionary\n",
        "\n",
        "z = myinfo.values()\n",
        "z"
      ],
      "metadata": {
        "id": "jiDrcRVwfgM9",
        "colab": {
          "base_uri": "https://localhost:8080/"
        },
        "outputId": "2557a44d-ddb2-4c6a-a1b6-9b25721c7e0a"
      },
      "execution_count": 15,
      "outputs": [
        {
          "output_type": "execute_result",
          "data": {
            "text/plain": [
              "dict_values(['mbwas', 'caleb', 26, 'wumat'])"
            ]
          },
          "metadata": {},
          "execution_count": 15
        }
      ]
    },
    {
      "cell_type": "code",
      "source": [
        "# The items() method will return each item in a dictionary, as tuples in a list.\n",
        "\n",
        "x = myinfo.items()\n",
        "x"
      ],
      "metadata": {
        "colab": {
          "base_uri": "https://localhost:8080/"
        },
        "id": "cWWLD_D753lf",
        "outputId": "0cd41592-a1ce-4b5c-c261-1d32aa07657c"
      },
      "execution_count": 16,
      "outputs": [
        {
          "output_type": "execute_result",
          "data": {
            "text/plain": [
              "dict_items([('first_name', 'mbwas'), ('last_name', 'caleb'), ('age', 26), ('home_town', 'wumat')])"
            ]
          },
          "metadata": {},
          "execution_count": 16
        }
      ]
    },
    {
      "cell_type": "code",
      "source": [
        "# To change value of items in a dictionary\n",
        "# The change value adds the changed value as quick as anything\n",
        "\n",
        "myinfo['age'] = 78"
      ],
      "metadata": {
        "id": "Sw3JeA0y6Nr9"
      },
      "execution_count": 17,
      "outputs": []
    },
    {
      "cell_type": "code",
      "source": [
        "myinfo"
      ],
      "metadata": {
        "colab": {
          "base_uri": "https://localhost:8080/"
        },
        "id": "mMj6FKc56nrK",
        "outputId": "bfff02f9-efb2-404e-a115-3c1e96d3da62"
      },
      "execution_count": 18,
      "outputs": [
        {
          "output_type": "execute_result",
          "data": {
            "text/plain": [
              "{'first_name': 'mbwas', 'last_name': 'caleb', 'age': 78, 'home_town': 'wumat'}"
            ]
          },
          "metadata": {},
          "execution_count": 18
        }
      ]
    },
    {
      "cell_type": "code",
      "source": [
        "# The update() method will update the dictionary with the items from the given argument.\n",
        "\n",
        "myinfo.update({'first_name':'aboy'})"
      ],
      "metadata": {
        "id": "-JKDAJZK6pBZ"
      },
      "execution_count": 19,
      "outputs": []
    },
    {
      "cell_type": "code",
      "source": [
        "myinfo"
      ],
      "metadata": {
        "colab": {
          "base_uri": "https://localhost:8080/"
        },
        "id": "QUZB0g4n7RsO",
        "outputId": "ba95da54-425a-40ca-ea7a-1266dbd172d9"
      },
      "execution_count": 20,
      "outputs": [
        {
          "output_type": "execute_result",
          "data": {
            "text/plain": [
              "{'first_name': 'aboy', 'last_name': 'caleb', 'age': 78, 'home_town': 'wumat'}"
            ]
          },
          "metadata": {},
          "execution_count": 20
        }
      ]
    },
    {
      "cell_type": "code",
      "source": [
        "# To remove items from a dictionary, use the pop() function to carry it out\n",
        "# The pop() method removes the item with the specified key name\n",
        "\n",
        "myinfo"
      ],
      "metadata": {
        "id": "_DaQTRAO7Tba",
        "colab": {
          "base_uri": "https://localhost:8080/"
        },
        "outputId": "fda2e3a0-479e-49f3-ce0b-372f0aa29c48"
      },
      "execution_count": 21,
      "outputs": [
        {
          "output_type": "execute_result",
          "data": {
            "text/plain": [
              "{'first_name': 'aboy', 'last_name': 'caleb', 'age': 78, 'home_town': 'wumat'}"
            ]
          },
          "metadata": {},
          "execution_count": 21
        }
      ]
    },
    {
      "cell_type": "code",
      "source": [
        "myinfo.pop('age')"
      ],
      "metadata": {
        "colab": {
          "base_uri": "https://localhost:8080/"
        },
        "id": "oHt51aZ-ZWth",
        "outputId": "21a2a13f-a05b-4c7a-de41-11729719214b"
      },
      "execution_count": 22,
      "outputs": [
        {
          "output_type": "execute_result",
          "data": {
            "text/plain": [
              "78"
            ]
          },
          "metadata": {},
          "execution_count": 22
        }
      ]
    },
    {
      "cell_type": "code",
      "source": [
        "myinfo"
      ],
      "metadata": {
        "colab": {
          "base_uri": "https://localhost:8080/"
        },
        "id": "zZGBCqXDaoRh",
        "outputId": "e57bde2e-3443-4527-c9fd-e18ff6e17ac6"
      },
      "execution_count": 23,
      "outputs": [
        {
          "output_type": "execute_result",
          "data": {
            "text/plain": [
              "{'first_name': 'aboy', 'last_name': 'caleb', 'home_town': 'wumat'}"
            ]
          },
          "metadata": {},
          "execution_count": 23
        }
      ]
    },
    {
      "cell_type": "code",
      "source": [
        "# The del keyword removes the item with the specified key name\n",
        "# for example\n",
        "\n",
        "del myinfo['home_town']"
      ],
      "metadata": {
        "id": "YZ7YMw47aq3h"
      },
      "execution_count": 24,
      "outputs": []
    },
    {
      "cell_type": "code",
      "source": [
        "myinfo"
      ],
      "metadata": {
        "colab": {
          "base_uri": "https://localhost:8080/"
        },
        "id": "CcrROaYBbGJW",
        "outputId": "6445312e-5730-48f1-e4d3-8ced74b210dd"
      },
      "execution_count": 25,
      "outputs": [
        {
          "output_type": "execute_result",
          "data": {
            "text/plain": [
              "{'first_name': 'aboy', 'last_name': 'caleb'}"
            ]
          },
          "metadata": {},
          "execution_count": 25
        }
      ]
    },
    {
      "cell_type": "code",
      "source": [
        "# The clear() method empties the dictionary\n",
        "\n",
        "myinfo.clear()"
      ],
      "metadata": {
        "id": "_Iv3fXX-bICp"
      },
      "execution_count": 26,
      "outputs": []
    },
    {
      "cell_type": "code",
      "source": [
        "myinfo"
      ],
      "metadata": {
        "colab": {
          "base_uri": "https://localhost:8080/"
        },
        "id": "htsEz3vFcASj",
        "outputId": "48274a21-12c2-4839-d603-8758722faf67"
      },
      "execution_count": 27,
      "outputs": [
        {
          "output_type": "execute_result",
          "data": {
            "text/plain": [
              "{}"
            ]
          },
          "metadata": {},
          "execution_count": 27
        }
      ]
    },
    {
      "cell_type": "markdown",
      "source": [
        "# Loop Through a Dictionary\n",
        "You can loop through a dictionary by using a for loop.\n",
        "\n",
        "When looping through a dictionary, the return value are the keys of the dictionary, but there are methods to return the values as well."
      ],
      "metadata": {
        "id": "rV_JM0bYciIU"
      }
    },
    {
      "cell_type": "code",
      "source": [
        "# To work an example, let us create a dictionary for courses offered by five students\n",
        "\n",
        "names_of_students = {'monday': 'python', 'esther': 'commerce', 'felicia': 'mathematics', 'tishak': 'economics', 'comfort': 'accounting'}\n",
        "\n",
        "names_of_students"
      ],
      "metadata": {
        "colab": {
          "base_uri": "https://localhost:8080/"
        },
        "id": "IxSCw7GGcBml",
        "outputId": "ed56eb9e-a584-4878-d619-bbcb0b6db633"
      },
      "execution_count": 28,
      "outputs": [
        {
          "output_type": "execute_result",
          "data": {
            "text/plain": [
              "{'monday': 'python',\n",
              " 'esther': 'commerce',\n",
              " 'felicia': 'mathematics',\n",
              " 'tishak': 'economics',\n",
              " 'comfort': 'accounting'}"
            ]
          },
          "metadata": {},
          "execution_count": 28
        }
      ]
    },
    {
      "cell_type": "code",
      "source": [
        "# To loop through the dictionary:\n",
        "\n",
        "for x in names_of_students:\n",
        "    print(x.capitalize())"
      ],
      "metadata": {
        "colab": {
          "base_uri": "https://localhost:8080/"
        },
        "id": "Tt3Lh7CfdTb4",
        "outputId": "4efbd17f-a1f1-4a73-8eb8-d593f67eff68"
      },
      "execution_count": 29,
      "outputs": [
        {
          "output_type": "stream",
          "name": "stdout",
          "text": [
            "Monday\n",
            "Esther\n",
            "Felicia\n",
            "Tishak\n",
            "Comfort\n"
          ]
        }
      ]
    },
    {
      "cell_type": "code",
      "source": [
        "# You can also use the values() method to return values of a dictionary:\n",
        "\n",
        "for x in names_of_students.values():\n",
        "    print(x.capitalize())"
      ],
      "metadata": {
        "colab": {
          "base_uri": "https://localhost:8080/"
        },
        "id": "ZSwP9WGMdrHA",
        "outputId": "5f89bdb9-e47f-44bd-d857-a8b75e6e1f26"
      },
      "execution_count": 30,
      "outputs": [
        {
          "output_type": "stream",
          "name": "stdout",
          "text": [
            "Python\n",
            "Commerce\n",
            "Mathematics\n",
            "Economics\n",
            "Accounting\n"
          ]
        }
      ]
    },
    {
      "cell_type": "code",
      "source": [
        "# Loop through both keys and values, by using the items() method:\n",
        "\n",
        "for x, y in names_of_students.items():\n",
        "  print(x, y)"
      ],
      "metadata": {
        "colab": {
          "base_uri": "https://localhost:8080/"
        },
        "id": "dpDwmDR2gDfh",
        "outputId": "ac54809d-e348-4e5b-86d7-24627d82215e"
      },
      "execution_count": 31,
      "outputs": [
        {
          "output_type": "stream",
          "name": "stdout",
          "text": [
            "monday python\n",
            "esther commerce\n",
            "felicia mathematics\n",
            "tishak economics\n",
            "comfort accounting\n"
          ]
        }
      ]
    },
    {
      "cell_type": "code",
      "source": [],
      "metadata": {
        "id": "0L4pSg0CgeZI"
      },
      "execution_count": 31,
      "outputs": []
    }
  ]
}